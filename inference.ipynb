{
 "cells": [
  {
   "cell_type": "code",
   "execution_count": 1,
   "metadata": {},
   "outputs": [],
   "source": [
    "from src.neural_nets import UnconditionalGenerator, ConditionalGenerator\n",
    "from src.preprocess import generate_noise, plot_image_grid\n",
    "import torch"
   ]
  },
  {
   "cell_type": "code",
   "execution_count": null,
   "metadata": {},
   "outputs": [],
   "source": [
    "device = 'cuda'\n",
    "COND_GEN_MODEL_PATH = ''\n",
    "UNCOND_GEN_MODEL_PATH = ''"
   ]
  },
  {
   "cell_type": "code",
   "execution_count": null,
   "metadata": {},
   "outputs": [],
   "source": [
    "cond_gen = ConditionalGenerator().to(device)\n",
    "cond_ckpt = torch.load(COND_GEN_MODEL_PATH, map_location=device)\n",
    "cond_gen.load_state_dict(cond_ckpt)\n",
    "cond_gen.eval()"
   ]
  },
  {
   "cell_type": "code",
   "execution_count": null,
   "metadata": {},
   "outputs": [],
   "source": [
    "num_samples = 10\n",
    "z = generate_noise(num_samples).to(device)\n",
    "y = torch.randint(0,2,size=(num_samples, 1)).to(device)"
   ]
  },
  {
   "cell_type": "code",
   "execution_count": null,
   "metadata": {},
   "outputs": [],
   "source": [
    "cond_out = cond_gen(z, y)\n",
    "plot_image_grid(cond_out, None, None)"
   ]
  },
  {
   "cell_type": "code",
   "execution_count": null,
   "metadata": {},
   "outputs": [],
   "source": [
    "uncond_gen = UnconditionalGenerator().to(device)\n",
    "uncond_ckpt = torch.load(UNCOND_GEN_MODEL_PATH, map_location=device)\n",
    "uncond_gen.load_state_dict(uncond_ckpt)\n",
    "uncond_gen.eval()"
   ]
  },
  {
   "cell_type": "code",
   "execution_count": null,
   "metadata": {},
   "outputs": [],
   "source": [
    "num_samples = 10\n",
    "z = generate_noise(num_samples).to(device)"
   ]
  },
  {
   "cell_type": "code",
   "execution_count": null,
   "metadata": {},
   "outputs": [],
   "source": [
    "uncond_out = uncond_gen(z)\n",
    "plot_image_grid(uncond_out, None, None)"
   ]
  }
 ],
 "metadata": {
  "kernelspec": {
   "display_name": "base",
   "language": "python",
   "name": "python3"
  },
  "language_info": {
   "codemirror_mode": {
    "name": "ipython",
    "version": 3
   },
   "file_extension": ".py",
   "mimetype": "text/x-python",
   "name": "python",
   "nbconvert_exporter": "python",
   "pygments_lexer": "ipython3",
   "version": "3.11.4"
  }
 },
 "nbformat": 4,
 "nbformat_minor": 2
}
