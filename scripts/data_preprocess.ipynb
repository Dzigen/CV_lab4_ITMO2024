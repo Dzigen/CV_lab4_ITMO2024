{
 "cells": [
  {
   "cell_type": "markdown",
   "metadata": {},
   "source": [
    "<b>Назначение:</b> Классификация пола людей с выбранных изображений"
   ]
  },
  {
   "cell_type": "code",
   "execution_count": 31,
   "metadata": {},
   "outputs": [],
   "source": [
    "from transformers import AutoModelForImageClassification, AutoImageProcessor\n",
    "from PIL import Image\n",
    "import pandas as pd\n",
    "import torch\n",
    "from tqdm import tqdm\n",
    "from collections import Counter\n",
    "\n",
    "GENDER_MODEL_PATH = \"rizvandwiki/gender-classification\"\n",
    "IMAGES_INFO_TABLE = '../data/images_info.csv'"
   ]
  },
  {
   "cell_type": "markdown",
   "metadata": {},
   "source": [
    " 0 - female\n",
    " 1 - male"
   ]
  },
  {
   "cell_type": "code",
   "execution_count": 27,
   "metadata": {},
   "outputs": [],
   "source": [
    "model = AutoModelForImageClassification.from_pretrained(GENDER_MODEL_PATH).to('cuda')\n",
    "preprocessor = AutoImageProcessor.from_pretrained(GENDER_MODEL_PATH)"
   ]
  },
  {
   "cell_type": "code",
   "execution_count": 28,
   "metadata": {},
   "outputs": [],
   "source": [
    "images_info = pd.read_csv(IMAGES_INFO_TABLE, sep=';')"
   ]
  },
  {
   "cell_type": "code",
   "execution_count": 29,
   "metadata": {},
   "outputs": [
    {
     "name": "stderr",
     "output_type": "stream",
     "text": [
      "100%|██████████| 50000/50000 [48:16<00:00, 17.26it/s]  \n"
     ]
    }
   ],
   "source": [
    "label_map = {\n",
    "    0: 'female',\n",
    "    1: 'male'\n",
    "}\n",
    "\n",
    "tmp_labels = []\n",
    "for i in tqdm(range(images_info.shape[0])):\n",
    "    cur_image_path = f\"../{images_info['relative_path'][i]}/{images_info['images_name'][i]}\"\n",
    "    cur_image = Image.open(cur_image_path)\n",
    "    img_tensor = torch.unsqueeze(torch.tensor(preprocessor(cur_image)['pixel_values'][0]),0).to('cuda')\n",
    "\n",
    "    image_gender_label = torch.argmax(model(img_tensor).logits.detach().cpu()).tolist()\n",
    "\n",
    "    #print(image_gender_label)\n",
    "\n",
    "    tmp_labels.append(label_map[image_gender_label])"
   ]
  },
  {
   "cell_type": "code",
   "execution_count": 32,
   "metadata": {},
   "outputs": [
    {
     "name": "stdout",
     "output_type": "stream",
     "text": [
      "Counter({'female': 28751, 'male': 21249})\n"
     ]
    }
   ],
   "source": [
    "print(Counter(tmp_labels))"
   ]
  },
  {
   "cell_type": "code",
   "execution_count": 33,
   "metadata": {},
   "outputs": [],
   "source": [
    "images_info['label'] = tmp_labels"
   ]
  },
  {
   "cell_type": "code",
   "execution_count": 34,
   "metadata": {},
   "outputs": [],
   "source": [
    "images_info.to_csv(IMAGES_INFO_TABLE, sep=';', index=False)"
   ]
  },
  {
   "cell_type": "code",
   "execution_count": null,
   "metadata": {},
   "outputs": [],
   "source": []
  }
 ],
 "metadata": {
  "kernelspec": {
   "display_name": "base",
   "language": "python",
   "name": "python3"
  },
  "language_info": {
   "codemirror_mode": {
    "name": "ipython",
    "version": 3
   },
   "file_extension": ".py",
   "mimetype": "text/x-python",
   "name": "python",
   "nbconvert_exporter": "python",
   "pygments_lexer": "ipython3",
   "version": "3.11.4"
  }
 },
 "nbformat": 4,
 "nbformat_minor": 2
}
