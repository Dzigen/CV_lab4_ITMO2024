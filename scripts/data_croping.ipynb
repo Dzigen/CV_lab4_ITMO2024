{
 "cells": [
  {
   "cell_type": "markdown",
   "metadata": {},
   "source": [
    "<b>Назначение:</b> детекция/выравнивание/вырезание лиц"
   ]
  },
  {
   "cell_type": "code",
   "execution_count": 3,
   "metadata": {},
   "outputs": [],
   "source": [
    "from PIL import Image\n",
    "import pandas as pd\n",
    "import torch\n",
    "from tqdm import tqdm\n",
    "from collections import Counter\n",
    "import numpy as np\n",
    "import math\n",
    "from ultralytics import YOLO\n",
    "import cv2\n",
    "\n",
    "IMAGES_INFO_TABLE = '../data/images_info.csv'\n",
    "CROPED_IMAGES_DIR = 'data/croped_images'\n",
    "IMAGE_SIZE = 64"
   ]
  },
  {
   "cell_type": "code",
   "execution_count": 4,
   "metadata": {},
   "outputs": [],
   "source": [
    "class ImageProcessing:\n",
    "    def __init__(self) -> None:\n",
    "        self.face_detector = YOLO('../yolov8n-face.pt')\n",
    "\n",
    "    #\n",
    "    def get_central_of_face(self, face_info):\n",
    "        left_eye, right_eye, nose = face_info['key_points'][:3]\n",
    "        center_x = (left_eye[0] + right_eye[0] + nose[0]) // 3\n",
    "        center_y = (left_eye[1] + right_eye[1] + nose[1]) // 3\n",
    "        face_center_point = [center_x, center_y]\n",
    "        return face_center_point\n",
    "\n",
    "    #\n",
    "    def detect_faces(self, image):\n",
    "        res = self.face_detector(image, show=False, save=False, conf=0.4,\n",
    "                                 save_txt=False, save_crop=False, verbose=False)[0]\n",
    "        \n",
    "        faces = []\n",
    "        for ind in range(len(res.boxes)):\n",
    "            box_points = res.boxes.xyxy[ind].cpu().numpy().astype(int)\n",
    "            keypoints = res.keypoints[ind].data.cpu().numpy()[0][:, :2].astype(int)\n",
    "            tmp_face = {\n",
    "                \"conf\": res.boxes.conf[ind].cpu().item(),\n",
    "                \"box_points\": box_points.tolist(),\n",
    "                \"key_points\": keypoints.tolist(),\n",
    "                }\n",
    "            \n",
    "            f_center = self.get_central_of_face(tmp_face)\n",
    "            tmp_face['face_center'] = f_center\n",
    "            faces.append(tmp_face)\n",
    "\n",
    "        return faces\n",
    "\n",
    "    #\n",
    "    def get_modif_image(self, image):\n",
    "        faces_info = self.detect_faces(image)\n",
    "\n",
    "        img_copy = image.copy()\n",
    "        draw = PIL.ImageDraw.Draw(img_copy)\n",
    "        p_wdth = 4\n",
    "\n",
    "        for face in faces_info:\n",
    "            box, kp = face['box_points'], face['key_points']\n",
    "            \n",
    "            draw.rectangle(box, width=2, outline='red')\n",
    "            \n",
    "            points = kp + [face['face_center']]\n",
    "\n",
    "            colors = ['red', 'blue', 'green', 'orange', 'black', 'brown']\n",
    "            for i, p in enumerate(points):\n",
    "                draw.ellipse([p[0]-p_wdth, p[1]-p_wdth,\n",
    "                              p[0]+p_wdth, p[1]+p_wdth], fill=colors[i])\n",
    "\n",
    "        return img_copy\n",
    "\n",
    "    #\n",
    "    def crop_face(self, image, face):\n",
    "        box_points, f_center = face['box_points'], face['face_center']\n",
    "\n",
    "        max_sz = max(\n",
    "            abs(box_points[0] - f_center[0]),\n",
    "            abs(box_points[1] - f_center[1]),\n",
    "            abs(box_points[2] - f_center[0]),\n",
    "            abs(box_points[3] - f_center[1]),\n",
    "        )\n",
    "\n",
    "        new_bbox = (f_center[0] - max_sz, f_center[1] - max_sz,\n",
    "                    f_center[0] + max_sz, f_center[1] + max_sz)\n",
    "        \n",
    "        return image.crop(new_bbox)\n",
    "\n",
    "    #\n",
    "    def align_face(self, face, face_info):\n",
    "        left_eye, right_eye = face_info['key_points'][:2]\n",
    "        dist = lambda p1, p2: np.sqrt((p1[0] - p2[0])**2 + (p1[1] - p2[1])**2)\n",
    "\n",
    "        #print(left_eye, right_eye)\n",
    "\n",
    "        #\n",
    "        c = dist(left_eye, right_eye)\n",
    "\n",
    "        # finding rotation direction\n",
    "        if left_eye[1] > right_eye[1]:\n",
    "            point_3rd = (right_eye[0], left_eye[1])\n",
    "            a = dist(left_eye, point_3rd)\n",
    "            direction = -1\n",
    "            cos_ang = a / c\n",
    "        else:\n",
    "            point_3rd = (left_eye[0], right_eye[1])\n",
    "            b = dist(right_eye, point_3rd)\n",
    "            direction = 1\n",
    "            cos_ang = b / c \n",
    "        \n",
    "        #cos_a = (b*b + c*c - a*a)/(2*b*c)\n",
    "        angle = ((np.arccos(cos_ang) * 180) / math.pi)\n",
    "\n",
    "        #print(angle)\n",
    "\n",
    "        #\n",
    "        return face.rotate(angle*direction)\n",
    "\n",
    "    #\n",
    "    def get_faces_from_image(self, image):\n",
    "        # detect faces\n",
    "        faces_info = self.detect_faces(image)\n",
    "\n",
    "        if len(faces_info) == 0:\n",
    "            return None, None\n",
    "        \n",
    "        # crop faces\n",
    "        croped_faces = [self.crop_face(image, info) for info in faces_info]\n",
    "\n",
    "        # center faces\n",
    "        centered_faces = [self.align_face(face, info) for face, info in zip(croped_faces, faces_info)]\n",
    "        \n",
    "        # resize faces\n",
    "        resized_faces = [Image.fromarray(cv2.resize(np.array(face), (IMAGE_SIZE,IMAGE_SIZE))) for face in centered_faces]\n",
    "        \n",
    "        return resized_faces, faces_info\n"
   ]
  },
  {
   "cell_type": "code",
   "execution_count": 5,
   "metadata": {},
   "outputs": [],
   "source": [
    "images_table = pd.read_csv(IMAGES_INFO_TABLE, sep=';')\n",
    "inference = ImageProcessing()"
   ]
  },
  {
   "cell_type": "code",
   "execution_count": 6,
   "metadata": {},
   "outputs": [
    {
     "name": "stderr",
     "output_type": "stream",
     "text": [
      "  0%|          | 229/50000 [00:03<10:11, 81.35it/s]/tmp/ipykernel_40950/2985626437.py:92: RuntimeWarning: invalid value encountered in scalar divide\n",
      "  cos_ang = b / c\n",
      "100%|██████████| 50000/50000 [10:56<00:00, 76.15it/s]\n"
     ]
    }
   ],
   "source": [
    "bad_images = []\n",
    "\n",
    "for i in tqdm(range(images_table.shape[0])):\n",
    "    cur_image_path = f\"../{images_table['relative_path'][i]}/{images_table['images_name'][i]}\"\n",
    "    cur_image = Image.open(cur_image_path)\n",
    "\n",
    "    croped_face, _ = inference.get_faces_from_image(cur_image)\n",
    "\n",
    "    if croped_face is None:\n",
    "        bad_images.append(i)\n",
    "        continue\n",
    "\n",
    "    one_face = croped_face[0]\n",
    "    one_face.save(f\"../{CROPED_IMAGES_DIR}/{images_table['images_name'][i]}\")"
   ]
  },
  {
   "cell_type": "code",
   "execution_count": 7,
   "metadata": {},
   "outputs": [
    {
     "name": "stdout",
     "output_type": "stream",
     "text": [
      "bad images amount: 47\n"
     ]
    }
   ],
   "source": [
    "print(\"bad images amount:\", len(bad_images))"
   ]
  },
  {
   "cell_type": "code",
   "execution_count": 8,
   "metadata": {},
   "outputs": [
    {
     "name": "stdout",
     "output_type": "stream",
     "text": [
      "50000\n",
      "49953\n"
     ]
    }
   ],
   "source": [
    "print(images_table.shape[0])\n",
    "images_table = images_table.drop(index=bad_images).reset_index(drop=True)\n",
    "print(images_table.shape[0])"
   ]
  },
  {
   "cell_type": "code",
   "execution_count": 9,
   "metadata": {},
   "outputs": [],
   "source": [
    "images_table['croped_path'] = 'data/croped_images'"
   ]
  },
  {
   "cell_type": "code",
   "execution_count": 11,
   "metadata": {},
   "outputs": [],
   "source": [
    "images_table.to_csv(IMAGES_INFO_TABLE, sep=';', index=False)"
   ]
  }
 ],
 "metadata": {
  "kernelspec": {
   "display_name": "base",
   "language": "python",
   "name": "python3"
  },
  "language_info": {
   "codemirror_mode": {
    "name": "ipython",
    "version": 3
   },
   "file_extension": ".py",
   "mimetype": "text/x-python",
   "name": "python",
   "nbconvert_exporter": "python",
   "pygments_lexer": "ipython3",
   "version": "3.11.4"
  }
 },
 "nbformat": 4,
 "nbformat_minor": 2
}
