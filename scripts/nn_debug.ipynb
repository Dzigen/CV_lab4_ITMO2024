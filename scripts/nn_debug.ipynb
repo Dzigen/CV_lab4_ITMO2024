{
 "cells": [
  {
   "cell_type": "code",
   "execution_count": 1,
   "metadata": {},
   "outputs": [],
   "source": [
    "import sys\n",
    "from PIL import Image\n",
    "from datasets import Dataset\n",
    "import pandas as pd\n",
    "from torch.utils.data import DataLoader\n",
    "\n",
    "sys.path.insert(0, \"/home/dzigen/Desktop/ITMO/sem1/ImgGen/Лабы/lab4/\")\n",
    "\n",
    "from src.preprocess import *\n",
    "from src.utils import *\n",
    "from src.neural_nets import *"
   ]
  },
  {
   "cell_type": "code",
   "execution_count": 3,
   "metadata": {},
   "outputs": [],
   "source": [
    "# TEST\n",
    "\n",
    "cond_gen = ConditionalGenerator()\n",
    "\n",
    "fake_dataset = CustomFakeDataset(cond_gen, 3000, IS_PREPROCESSOR)\n",
    "fake_dataloader = DataLoader(fake_dataset, batch_size=16, shuffle=False, num_workers=2, drop_last=True)\n",
    "\n",
    "print(fake_dataset[0].shape)\n",
    "print(next(iter(fake_dataloader)).shape)"
   ]
  },
  {
   "cell_type": "code",
   "execution_count": 6,
   "metadata": {},
   "outputs": [],
   "source": [
    "tensor = torch.rand(3,300,700)\n",
    "\n",
    "# define a transform to convert a tensor to PIL image\n",
    "transform = T.ToPILImage()\n",
    "\n",
    "# convert the tensor to PIL image using above transform\n",
    "img = transform(tensor)"
   ]
  },
  {
   "cell_type": "code",
   "execution_count": 10,
   "metadata": {},
   "outputs": [
    {
     "name": "stdout",
     "output_type": "stream",
     "text": [
      "torch.Size([100])\n",
      "torch.Size([3, 64, 64])\n"
     ]
    }
   ],
   "source": [
    "# TEST\n",
    "\n",
    "v = generate_noise()\n",
    "print(v.shape)\n",
    "img = Image.open(\"/home/dzigen/Desktop/ITMO/sem1/ImgGen/Лабы/lab4/data/croped_images/157771.jpg\")\n",
    "print(IMAGE_PREPROCESSOR(img).shape)"
   ]
  },
  {
   "cell_type": "code",
   "execution_count": 40,
   "metadata": {},
   "outputs": [
    {
     "name": "stdout",
     "output_type": "stream",
     "text": [
      "39968\n",
      "9985\n",
      "torch.Size([8, 3, 64, 64])\n",
      "torch.Size([8, 3, 64, 64])\n"
     ]
    }
   ],
   "source": [
    "#TEST\n",
    "\n",
    "ROOT_DIR = '../'\n",
    "IMAGES_INFO = '/home/dzigen/Desktop/ITMO/sem1/ImgGen/Лабы/lab4/data/images_info.csv'\n",
    "\n",
    "train_dataset = CustomCelebDataset(IMAGES_INFO, IMAGE_PREPROCESSOR, 'train', base_dir=ROOT_DIR)\n",
    "print(len(train_dataset))\n",
    "eval_dataset = CustomCelebDataset(IMAGES_INFO, IMAGE_PREPROCESSOR, 'test', base_dir=ROOT_DIR)\n",
    "print(len(eval_dataset))\n",
    "\n",
    "train_loader = DataLoader(train_dataset, batch_size=8, \n",
    "                          collate_fn=custom_collate, shuffle=True)\n",
    "res = next(iter(train_loader))\n",
    "print(res['images'].shape)\n",
    "eval_loader = DataLoader(eval_dataset, batch_size=8, \n",
    "                          collate_fn=custom_collate, shuffle=False)\n",
    "res = next(iter(eval_loader))\n",
    "print(res['images'].shape)"
   ]
  },
  {
   "cell_type": "code",
   "execution_count": 9,
   "metadata": {},
   "outputs": [],
   "source": [
    "from src.neural_nets import *"
   ]
  },
  {
   "cell_type": "code",
   "execution_count": 2,
   "metadata": {},
   "outputs": [],
   "source": [
    "cond_gen = ConditionalGenerator()\n",
    "cond_dis = ConditionalDiscriminator()\n",
    "\n",
    "uncond_gen = UnconditionalGenerator()\n",
    "uncond_dis = UnconditionalDiscriminator()"
   ]
  },
  {
   "cell_type": "code",
   "execution_count": 3,
   "metadata": {},
   "outputs": [],
   "source": [
    "z = torch.randint(0,256, size=(2, 100)) / 255\n",
    "y = torch.randint(0,2, size=(2, 1))\n",
    "im = torch.randint(0, 256, size=(2,3,64,64)) / 255"
   ]
  },
  {
   "cell_type": "code",
   "execution_count": 4,
   "metadata": {},
   "outputs": [
    {
     "name": "stdout",
     "output_type": "stream",
     "text": [
      "torch.Size([2, 3, 64, 64])\n",
      "torch.Size([2, 1])\n"
     ]
    }
   ],
   "source": [
    "print(uncond_gen(z, y).shape)\n",
    "print(uncond_dis(im, y).shape)"
   ]
  },
  {
   "cell_type": "code",
   "execution_count": 6,
   "metadata": {},
   "outputs": [
    {
     "name": "stdout",
     "output_type": "stream",
     "text": [
      "torch.Size([2, 100, 1, 1])\n",
      "torch.Size([2, 1, 50])\n",
      "torch.Size([2, 1, 20])\n",
      "torch.Size([2, 20, 1, 1])\n",
      "torch.Size([2, 120, 1, 1])\n",
      "torch.Size([2, 3, 64, 64])\n"
     ]
    }
   ],
   "source": [
    "print(cond_gen(z, y).shape)"
   ]
  },
  {
   "cell_type": "code",
   "execution_count": 7,
   "metadata": {},
   "outputs": [
    {
     "name": "stdout",
     "output_type": "stream",
     "text": [
      "torch.Size([2, 1, 50])\n",
      "torch.Size([2, 1, 4096])\n",
      "torch.Size([2, 1, 64, 64])\n",
      "torch.Size([2, 4, 64, 64])\n",
      "torch.Size([2, 1])\n"
     ]
    }
   ],
   "source": [
    "print(cond_dis(im, y).shape)"
   ]
  }
 ],
 "metadata": {
  "kernelspec": {
   "display_name": "base",
   "language": "python",
   "name": "python3"
  },
  "language_info": {
   "codemirror_mode": {
    "name": "ipython",
    "version": 3
   },
   "file_extension": ".py",
   "mimetype": "text/x-python",
   "name": "python",
   "nbconvert_exporter": "python",
   "pygments_lexer": "ipython3",
   "version": "3.11.4"
  }
 },
 "nbformat": 4,
 "nbformat_minor": 2
}
